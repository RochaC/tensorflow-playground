{
 "cells": [
  {
   "cell_type": "code",
   "execution_count": 1,
   "metadata": {
    "collapsed": true
   },
   "outputs": [],
   "source": [
    "import os\n",
    "import urllib\n",
    "\n",
    "import numpy as np\n",
    "import tensorflow as tf"
   ]
  },
  {
   "cell_type": "markdown",
   "metadata": {},
   "source": [
    "# get data"
   ]
  },
  {
   "cell_type": "code",
   "execution_count": 2,
   "metadata": {
    "collapsed": true
   },
   "outputs": [],
   "source": [
    "# Data sets\n",
    "IRIS_TRAINING = \"iris_training.csv\"\n",
    "IRIS_TRAINING_URL = \"http://download.tensorflow.org/data/iris_training.csv\"\n",
    "\n",
    "IRIS_TEST = \"iris_test.csv\"\n",
    "IRIS_TEST_URL = \"http://download.tensorflow.org/data/iris_test.csv\"\n",
    "\n",
    "# If the training and test sets aren't stored locally, download them.\n",
    "if not os.path.exists(IRIS_TRAINING):\n",
    "    raw = urllib.request.urlopen(IRIS_TRAINING_URL).read()\n",
    "    with open(IRIS_TRAINING, \"wb\") as f:\n",
    "        f.write(raw)\n",
    "\n",
    "if not os.path.exists(IRIS_TEST):\n",
    "    raw = urllib.request.urlopen(IRIS_TEST_URL).read()\n",
    "    with open(IRIS_TEST, \"wb\") as f:\n",
    "        f.write(raw)"
   ]
  },
  {
   "cell_type": "markdown",
   "metadata": {},
   "source": [
    "# data prep"
   ]
  },
  {
   "cell_type": "code",
   "execution_count": 8,
   "metadata": {},
   "outputs": [
    {
     "name": "stdout",
     "output_type": "stream",
     "text": [
      "INFO:tensorflow:Using default config.\n",
      "INFO:tensorflow:Using config: {'_model_dir': 'tmp/iris_model', '_tf_random_seed': 1, '_save_summary_steps': 100, '_save_checkpoints_secs': 600, '_save_checkpoints_steps': None, '_session_config': None, '_keep_checkpoint_max': 5, '_keep_checkpoint_every_n_hours': 10000, '_log_step_count_steps': 100}\n"
     ]
    }
   ],
   "source": [
    "# Load datasets.\n",
    "training_set = tf.contrib.learn.datasets.base.load_csv_with_header(\n",
    "      filename=IRIS_TRAINING,\n",
    "      target_dtype=np.int,\\\n",
    "      features_dtype=np.float32)\n",
    "test_set = tf.contrib.learn.datasets.base.load_csv_with_header(\n",
    "      filename=IRIS_TEST,\n",
    "      target_dtype=np.int,\n",
    "      features_dtype=np.float32)\n",
    "\n",
    "# Specify that all features have real-value data\n",
    "feature_columns = [tf.feature_column.numeric_column(\"x\", shape=[4])]\n",
    "\n",
    "# Build 3 layer DNN with 10, 20, 10 units respectively.\n",
    "classifier = tf.estimator.DNNClassifier(feature_columns=feature_columns,\n",
    "                                          hidden_units=[10, 20, 10],\n",
    "                                          n_classes=3,\n",
    "                                          model_dir=\"tmp/iris_model\")"
   ]
  },
  {
   "cell_type": "code",
   "execution_count": 9,
   "metadata": {
    "scrolled": true
   },
   "outputs": [
    {
     "name": "stdout",
     "output_type": "stream",
     "text": [
      "INFO:tensorflow:Create CheckpointSaverHook.\n",
      "INFO:tensorflow:Saving checkpoints for 1 into tmp/iris_model/model.ckpt.\n",
      "INFO:tensorflow:loss = 305.437, step = 1\n",
      "INFO:tensorflow:global_step/sec: 553.875\n",
      "INFO:tensorflow:loss = 14.1765, step = 101 (0.185 sec)\n",
      "INFO:tensorflow:global_step/sec: 444.141\n",
      "INFO:tensorflow:loss = 6.55333, step = 201 (0.223 sec)\n",
      "INFO:tensorflow:global_step/sec: 591.733\n",
      "INFO:tensorflow:loss = 7.32866, step = 301 (0.168 sec)\n",
      "INFO:tensorflow:global_step/sec: 576.429\n",
      "INFO:tensorflow:loss = 6.35422, step = 401 (0.174 sec)\n",
      "INFO:tensorflow:global_step/sec: 573.433\n",
      "INFO:tensorflow:loss = 13.2819, step = 501 (0.174 sec)\n",
      "INFO:tensorflow:global_step/sec: 589.352\n",
      "INFO:tensorflow:loss = 7.18825, step = 601 (0.170 sec)\n",
      "INFO:tensorflow:global_step/sec: 559.226\n",
      "INFO:tensorflow:loss = 2.30713, step = 701 (0.179 sec)\n",
      "INFO:tensorflow:global_step/sec: 622.901\n",
      "INFO:tensorflow:loss = 3.16066, step = 801 (0.161 sec)\n",
      "INFO:tensorflow:global_step/sec: 613.174\n",
      "INFO:tensorflow:loss = 6.89485, step = 901 (0.163 sec)\n",
      "INFO:tensorflow:global_step/sec: 568.847\n",
      "INFO:tensorflow:loss = 6.63087, step = 1001 (0.176 sec)\n",
      "INFO:tensorflow:global_step/sec: 518.826\n",
      "INFO:tensorflow:loss = 3.2496, step = 1101 (0.192 sec)\n",
      "INFO:tensorflow:global_step/sec: 591.989\n",
      "INFO:tensorflow:loss = 7.97182, step = 1201 (0.169 sec)\n",
      "INFO:tensorflow:global_step/sec: 556.369\n",
      "INFO:tensorflow:loss = 2.81216, step = 1301 (0.182 sec)\n",
      "INFO:tensorflow:global_step/sec: 577.274\n",
      "INFO:tensorflow:loss = 6.85588, step = 1401 (0.172 sec)\n",
      "INFO:tensorflow:global_step/sec: 632.171\n",
      "INFO:tensorflow:loss = 1.29804, step = 1501 (0.158 sec)\n",
      "INFO:tensorflow:global_step/sec: 608.442\n",
      "INFO:tensorflow:loss = 7.76477, step = 1601 (0.165 sec)\n",
      "INFO:tensorflow:global_step/sec: 632.743\n",
      "INFO:tensorflow:loss = 14.439, step = 1701 (0.159 sec)\n",
      "INFO:tensorflow:global_step/sec: 601.847\n",
      "INFO:tensorflow:loss = 7.7178, step = 1801 (0.165 sec)\n",
      "INFO:tensorflow:global_step/sec: 637.073\n",
      "INFO:tensorflow:loss = 12.308, step = 1901 (0.157 sec)\n",
      "INFO:tensorflow:Saving checkpoints for 2000 into tmp/iris_model/model.ckpt.\n",
      "INFO:tensorflow:Loss for final step: 1.7684.\n"
     ]
    },
    {
     "data": {
      "text/plain": [
       "<tensorflow.python.estimator.canned.dnn.DNNClassifier at 0x126e80668>"
      ]
     },
     "execution_count": 9,
     "metadata": {},
     "output_type": "execute_result"
    }
   ],
   "source": [
    "# Define the training inputs\n",
    "train_input_fn = tf.estimator.inputs.numpy_input_fn(\n",
    "  x={\"x\": np.array(training_set.data)},\n",
    "  y=np.array(training_set.target),\n",
    "  num_epochs=None,\n",
    "  shuffle=True)\n",
    "\n",
    "# Train model.\n",
    "classifier.train(input_fn=train_input_fn, steps=2000)"
   ]
  },
  {
   "cell_type": "code",
   "execution_count": 10,
   "metadata": {},
   "outputs": [
    {
     "name": "stdout",
     "output_type": "stream",
     "text": [
      "INFO:tensorflow:Starting evaluation at 2017-09-11-10:33:06\n",
      "INFO:tensorflow:Restoring parameters from tmp/iris_model/model.ckpt-2000\n",
      "INFO:tensorflow:Finished evaluation at 2017-09-11-10:33:07\n",
      "INFO:tensorflow:Saving dict for global step 2000: accuracy = 0.966667, average_loss = 0.0528331, global_step = 2000, loss = 1.58499\n",
      "\n",
      "Test Accuracy: 0.966667\n",
      "\n"
     ]
    }
   ],
   "source": [
    "# Define the test inputs\n",
    "test_input_fn = tf.estimator.inputs.numpy_input_fn(\n",
    "  x={\"x\": np.array(test_set.data)},\n",
    "  y=np.array(test_set.target),\n",
    "  num_epochs=1,\n",
    "  shuffle=False)\n",
    "\n",
    "# Evaluate accuracy.\n",
    "accuracy_score = classifier.evaluate(input_fn=test_input_fn)[\"accuracy\"]\n",
    "\n",
    "print(\"\\nTest Accuracy: {0:f}\\n\".format(accuracy_score))\n"
   ]
  },
  {
   "cell_type": "code",
   "execution_count": null,
   "metadata": {
    "collapsed": true
   },
   "outputs": [],
   "source": []
  }
 ],
 "metadata": {
  "kernelspec": {
   "display_name": "Python 3",
   "language": "python",
   "name": "python3"
  },
  "language_info": {
   "codemirror_mode": {
    "name": "ipython",
    "version": 3
   },
   "file_extension": ".py",
   "mimetype": "text/x-python",
   "name": "python",
   "nbconvert_exporter": "python",
   "pygments_lexer": "ipython3",
   "version": "3.6.0"
  }
 },
 "nbformat": 4,
 "nbformat_minor": 2
}

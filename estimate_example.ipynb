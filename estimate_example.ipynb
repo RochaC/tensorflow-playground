{
 "cells": [
  {
   "cell_type": "code",
   "execution_count": 2,
   "metadata": {},
   "outputs": [
    {
     "ename": "ImportError",
     "evalue": "Traceback (most recent call last):\n  File \"/home/rocha/anaconda3/lib/python3.6/site-packages/tensorflow/python/pywrap_tensorflow.py\", line 41, in <module>\n    from tensorflow.python.pywrap_tensorflow_internal import *\n  File \"/home/rocha/anaconda3/lib/python3.6/site-packages/tensorflow/python/pywrap_tensorflow_internal.py\", line 28, in <module>\n    _pywrap_tensorflow_internal = swig_import_helper()\n  File \"/home/rocha/anaconda3/lib/python3.6/site-packages/tensorflow/python/pywrap_tensorflow_internal.py\", line 24, in swig_import_helper\n    _mod = imp.load_module('_pywrap_tensorflow_internal', fp, pathname, description)\n  File \"/home/rocha/anaconda3/lib/python3.6/imp.py\", line 242, in load_module\n    return load_dynamic(name, filename, file)\n  File \"/home/rocha/anaconda3/lib/python3.6/imp.py\", line 342, in load_dynamic\n    return _load(spec)\nImportError: /lib64/libc.so.6: version `GLIBC_2.14' not found (required by /home/rocha/anaconda3/lib/python3.6/site-packages/tensorflow/python/_pywrap_tensorflow_internal.so)\n\n\nFailed to load the native TensorFlow runtime.\n\nSee https://www.tensorflow.org/install/install_sources#common_installation_problems\n\nfor some common reasons and solutions.  Include the entire stack trace\nabove this error message when asking for help.",
     "output_type": "error",
     "traceback": [
      "\u001b[0;31m---------------------------------------------------------------------------\u001b[0m",
      "\u001b[0;31mImportError\u001b[0m                               Traceback (most recent call last)",
      "\u001b[0;32m/home/rocha/anaconda3/lib/python3.6/site-packages/tensorflow/python/pywrap_tensorflow.py\u001b[0m in \u001b[0;36m<module>\u001b[0;34m()\u001b[0m\n\u001b[1;32m     40\u001b[0m     \u001b[0msys\u001b[0m\u001b[0;34m.\u001b[0m\u001b[0msetdlopenflags\u001b[0m\u001b[0;34m(\u001b[0m\u001b[0m_default_dlopen_flags\u001b[0m \u001b[0;34m|\u001b[0m \u001b[0mctypes\u001b[0m\u001b[0;34m.\u001b[0m\u001b[0mRTLD_GLOBAL\u001b[0m\u001b[0;34m)\u001b[0m\u001b[0;34m\u001b[0m\u001b[0m\n\u001b[0;32m---> 41\u001b[0;31m   \u001b[0;32mfrom\u001b[0m \u001b[0mtensorflow\u001b[0m\u001b[0;34m.\u001b[0m\u001b[0mpython\u001b[0m\u001b[0;34m.\u001b[0m\u001b[0mpywrap_tensorflow_internal\u001b[0m \u001b[0;32mimport\u001b[0m \u001b[0;34m*\u001b[0m\u001b[0;34m\u001b[0m\u001b[0m\n\u001b[0m\u001b[1;32m     42\u001b[0m   \u001b[0;32mfrom\u001b[0m \u001b[0mtensorflow\u001b[0m\u001b[0;34m.\u001b[0m\u001b[0mpython\u001b[0m\u001b[0;34m.\u001b[0m\u001b[0mpywrap_tensorflow_internal\u001b[0m \u001b[0;32mimport\u001b[0m \u001b[0m__version__\u001b[0m\u001b[0;34m\u001b[0m\u001b[0m\n",
      "\u001b[0;32m/home/rocha/anaconda3/lib/python3.6/site-packages/tensorflow/python/pywrap_tensorflow_internal.py\u001b[0m in \u001b[0;36m<module>\u001b[0;34m()\u001b[0m\n\u001b[1;32m     27\u001b[0m             \u001b[0;32mreturn\u001b[0m \u001b[0m_mod\u001b[0m\u001b[0;34m\u001b[0m\u001b[0m\n\u001b[0;32m---> 28\u001b[0;31m     \u001b[0m_pywrap_tensorflow_internal\u001b[0m \u001b[0;34m=\u001b[0m \u001b[0mswig_import_helper\u001b[0m\u001b[0;34m(\u001b[0m\u001b[0;34m)\u001b[0m\u001b[0;34m\u001b[0m\u001b[0m\n\u001b[0m\u001b[1;32m     29\u001b[0m     \u001b[0;32mdel\u001b[0m \u001b[0mswig_import_helper\u001b[0m\u001b[0;34m\u001b[0m\u001b[0m\n",
      "\u001b[0;32m/home/rocha/anaconda3/lib/python3.6/site-packages/tensorflow/python/pywrap_tensorflow_internal.py\u001b[0m in \u001b[0;36mswig_import_helper\u001b[0;34m()\u001b[0m\n\u001b[1;32m     23\u001b[0m             \u001b[0;32mtry\u001b[0m\u001b[0;34m:\u001b[0m\u001b[0;34m\u001b[0m\u001b[0m\n\u001b[0;32m---> 24\u001b[0;31m                 \u001b[0m_mod\u001b[0m \u001b[0;34m=\u001b[0m \u001b[0mimp\u001b[0m\u001b[0;34m.\u001b[0m\u001b[0mload_module\u001b[0m\u001b[0;34m(\u001b[0m\u001b[0;34m'_pywrap_tensorflow_internal'\u001b[0m\u001b[0;34m,\u001b[0m \u001b[0mfp\u001b[0m\u001b[0;34m,\u001b[0m \u001b[0mpathname\u001b[0m\u001b[0;34m,\u001b[0m \u001b[0mdescription\u001b[0m\u001b[0;34m)\u001b[0m\u001b[0;34m\u001b[0m\u001b[0m\n\u001b[0m\u001b[1;32m     25\u001b[0m             \u001b[0;32mfinally\u001b[0m\u001b[0;34m:\u001b[0m\u001b[0;34m\u001b[0m\u001b[0m\n",
      "\u001b[0;32m/home/rocha/anaconda3/lib/python3.6/imp.py\u001b[0m in \u001b[0;36mload_module\u001b[0;34m(name, file, filename, details)\u001b[0m\n\u001b[1;32m    241\u001b[0m         \u001b[0;32melse\u001b[0m\u001b[0;34m:\u001b[0m\u001b[0;34m\u001b[0m\u001b[0m\n\u001b[0;32m--> 242\u001b[0;31m             \u001b[0;32mreturn\u001b[0m \u001b[0mload_dynamic\u001b[0m\u001b[0;34m(\u001b[0m\u001b[0mname\u001b[0m\u001b[0;34m,\u001b[0m \u001b[0mfilename\u001b[0m\u001b[0;34m,\u001b[0m \u001b[0mfile\u001b[0m\u001b[0;34m)\u001b[0m\u001b[0;34m\u001b[0m\u001b[0m\n\u001b[0m\u001b[1;32m    243\u001b[0m     \u001b[0;32melif\u001b[0m \u001b[0mtype_\u001b[0m \u001b[0;34m==\u001b[0m \u001b[0mPKG_DIRECTORY\u001b[0m\u001b[0;34m:\u001b[0m\u001b[0;34m\u001b[0m\u001b[0m\n",
      "\u001b[0;32m/home/rocha/anaconda3/lib/python3.6/imp.py\u001b[0m in \u001b[0;36mload_dynamic\u001b[0;34m(name, path, file)\u001b[0m\n\u001b[1;32m    341\u001b[0m             name=name, loader=loader, origin=path)\n\u001b[0;32m--> 342\u001b[0;31m         \u001b[0;32mreturn\u001b[0m \u001b[0m_load\u001b[0m\u001b[0;34m(\u001b[0m\u001b[0mspec\u001b[0m\u001b[0;34m)\u001b[0m\u001b[0;34m\u001b[0m\u001b[0m\n\u001b[0m\u001b[1;32m    343\u001b[0m \u001b[0;34m\u001b[0m\u001b[0m\n",
      "\u001b[0;31mImportError\u001b[0m: /lib64/libc.so.6: version `GLIBC_2.14' not found (required by /home/rocha/anaconda3/lib/python3.6/site-packages/tensorflow/python/_pywrap_tensorflow_internal.so)",
      "\nDuring handling of the above exception, another exception occurred:\n",
      "\u001b[0;31mImportError\u001b[0m                               Traceback (most recent call last)",
      "\u001b[0;32m<ipython-input-2-48a9deab6d26>\u001b[0m in \u001b[0;36m<module>\u001b[0;34m()\u001b[0m\n\u001b[1;32m      3\u001b[0m \u001b[0;34m\u001b[0m\u001b[0m\n\u001b[1;32m      4\u001b[0m \u001b[0;32mimport\u001b[0m \u001b[0mnumpy\u001b[0m \u001b[0;32mas\u001b[0m \u001b[0mnp\u001b[0m\u001b[0;34m\u001b[0m\u001b[0m\n\u001b[0;32m----> 5\u001b[0;31m \u001b[0;32mimport\u001b[0m \u001b[0mtensorflow\u001b[0m \u001b[0;32mas\u001b[0m \u001b[0mtf\u001b[0m\u001b[0;34m\u001b[0m\u001b[0m\n\u001b[0m",
      "\u001b[0;32m/home/rocha/anaconda3/lib/python3.6/site-packages/tensorflow/__init__.py\u001b[0m in \u001b[0;36m<module>\u001b[0;34m()\u001b[0m\n\u001b[1;32m     22\u001b[0m \u001b[0;34m\u001b[0m\u001b[0m\n\u001b[1;32m     23\u001b[0m \u001b[0;31m# pylint: disable=wildcard-import\u001b[0m\u001b[0;34m\u001b[0m\u001b[0;34m\u001b[0m\u001b[0m\n\u001b[0;32m---> 24\u001b[0;31m \u001b[0;32mfrom\u001b[0m \u001b[0mtensorflow\u001b[0m\u001b[0;34m.\u001b[0m\u001b[0mpython\u001b[0m \u001b[0;32mimport\u001b[0m \u001b[0;34m*\u001b[0m\u001b[0;34m\u001b[0m\u001b[0m\n\u001b[0m\u001b[1;32m     25\u001b[0m \u001b[0;31m# pylint: enable=wildcard-import\u001b[0m\u001b[0;34m\u001b[0m\u001b[0;34m\u001b[0m\u001b[0m\n\u001b[1;32m     26\u001b[0m \u001b[0;34m\u001b[0m\u001b[0m\n",
      "\u001b[0;32m/home/rocha/anaconda3/lib/python3.6/site-packages/tensorflow/python/__init__.py\u001b[0m in \u001b[0;36m<module>\u001b[0;34m()\u001b[0m\n\u001b[1;32m     47\u001b[0m \u001b[0;32mimport\u001b[0m \u001b[0mnumpy\u001b[0m \u001b[0;32mas\u001b[0m \u001b[0mnp\u001b[0m\u001b[0;34m\u001b[0m\u001b[0m\n\u001b[1;32m     48\u001b[0m \u001b[0;34m\u001b[0m\u001b[0m\n\u001b[0;32m---> 49\u001b[0;31m \u001b[0;32mfrom\u001b[0m \u001b[0mtensorflow\u001b[0m\u001b[0;34m.\u001b[0m\u001b[0mpython\u001b[0m \u001b[0;32mimport\u001b[0m \u001b[0mpywrap_tensorflow\u001b[0m\u001b[0;34m\u001b[0m\u001b[0m\n\u001b[0m\u001b[1;32m     50\u001b[0m \u001b[0;34m\u001b[0m\u001b[0m\n\u001b[1;32m     51\u001b[0m \u001b[0;31m# Protocol buffers\u001b[0m\u001b[0;34m\u001b[0m\u001b[0;34m\u001b[0m\u001b[0m\n",
      "\u001b[0;32m/home/rocha/anaconda3/lib/python3.6/site-packages/tensorflow/python/pywrap_tensorflow.py\u001b[0m in \u001b[0;36m<module>\u001b[0;34m()\u001b[0m\n\u001b[1;32m     50\u001b[0m \u001b[0;32mfor\u001b[0m \u001b[0msome\u001b[0m \u001b[0mcommon\u001b[0m \u001b[0mreasons\u001b[0m \u001b[0;32mand\u001b[0m \u001b[0msolutions\u001b[0m\u001b[0;34m.\u001b[0m  \u001b[0mInclude\u001b[0m \u001b[0mthe\u001b[0m \u001b[0mentire\u001b[0m \u001b[0mstack\u001b[0m \u001b[0mtrace\u001b[0m\u001b[0;34m\u001b[0m\u001b[0m\n\u001b[1;32m     51\u001b[0m above this error message when asking for help.\"\"\" % traceback.format_exc()\n\u001b[0;32m---> 52\u001b[0;31m   \u001b[0;32mraise\u001b[0m \u001b[0mImportError\u001b[0m\u001b[0;34m(\u001b[0m\u001b[0mmsg\u001b[0m\u001b[0;34m)\u001b[0m\u001b[0;34m\u001b[0m\u001b[0m\n\u001b[0m\u001b[1;32m     53\u001b[0m \u001b[0;34m\u001b[0m\u001b[0m\n\u001b[1;32m     54\u001b[0m \u001b[0;31m# pylint: enable=wildcard-import,g-import-not-at-top,unused-import,line-too-long\u001b[0m\u001b[0;34m\u001b[0m\u001b[0;34m\u001b[0m\u001b[0m\n",
      "\u001b[0;31mImportError\u001b[0m: Traceback (most recent call last):\n  File \"/home/rocha/anaconda3/lib/python3.6/site-packages/tensorflow/python/pywrap_tensorflow.py\", line 41, in <module>\n    from tensorflow.python.pywrap_tensorflow_internal import *\n  File \"/home/rocha/anaconda3/lib/python3.6/site-packages/tensorflow/python/pywrap_tensorflow_internal.py\", line 28, in <module>\n    _pywrap_tensorflow_internal = swig_import_helper()\n  File \"/home/rocha/anaconda3/lib/python3.6/site-packages/tensorflow/python/pywrap_tensorflow_internal.py\", line 24, in swig_import_helper\n    _mod = imp.load_module('_pywrap_tensorflow_internal', fp, pathname, description)\n  File \"/home/rocha/anaconda3/lib/python3.6/imp.py\", line 242, in load_module\n    return load_dynamic(name, filename, file)\n  File \"/home/rocha/anaconda3/lib/python3.6/imp.py\", line 342, in load_dynamic\n    return _load(spec)\nImportError: /lib64/libc.so.6: version `GLIBC_2.14' not found (required by /home/rocha/anaconda3/lib/python3.6/site-packages/tensorflow/python/_pywrap_tensorflow_internal.so)\n\n\nFailed to load the native TensorFlow runtime.\n\nSee https://www.tensorflow.org/install/install_sources#common_installation_problems\n\nfor some common reasons and solutions.  Include the entire stack trace\nabove this error message when asking for help."
     ]
    }
   ],
   "source": [
    "import os\n",
    "import urllib\n",
    "\n",
    "import numpy as np\n",
    "import tensorflow as tf"
   ]
  },
  {
   "cell_type": "markdown",
   "metadata": {},
   "source": [
    "# get data"
   ]
  },
  {
   "cell_type": "code",
   "execution_count": 7,
   "metadata": {},
   "outputs": [],
   "source": [
    "# Data sets\n",
    "IRIS_TRAINING = \"iris_training.csv\"\n",
    "IRIS_TRAINING_URL = \"http://download.tensorflow.org/data/iris_training.csv\"\n",
    "\n",
    "IRIS_TEST = \"iris_test.csv\"\n",
    "IRIS_TEST_URL = \"http://download.tensorflow.org/data/iris_test.csv\"\n",
    "\n",
    "# If the training and test sets aren't stored locally, download them.\n",
    "if not os.path.exists(IRIS_TRAINING):\n",
    "    raw = urllib.request.urlopen(IRIS_TRAINING_URL).read()\n",
    "    with open(IRIS_TRAINING, \"wb\") as f:\n",
    "        f.write(raw)\n",
    "\n",
    "if not os.path.exists(IRIS_TEST):\n",
    "    raw = urllib.request.urlopen(IRIS_TEST_URL).read()\n",
    "    with open(IRIS_TEST, \"wb\") as f:\n",
    "        f.write(raw)"
   ]
  },
  {
   "cell_type": "markdown",
   "metadata": {},
   "source": [
    "# data prep"
   ]
  },
  {
   "cell_type": "code",
   "execution_count": 9,
   "metadata": {
    "scrolled": true
   },
   "outputs": [
    {
     "ename": "AttributeError",
     "evalue": "module 'tensorflow.python.estimator.estimator_lib' has no attribute 'DNNClassifier'",
     "output_type": "error",
     "traceback": [
      "\u001b[0;31m---------------------------------------------------------------------------\u001b[0m",
      "\u001b[0;31mAttributeError\u001b[0m                            Traceback (most recent call last)",
      "\u001b[0;32m<ipython-input-9-3ef3f083a18b>\u001b[0m in \u001b[0;36m<module>\u001b[0;34m()\u001b[0m\n\u001b[1;32m     13\u001b[0m \u001b[0;34m\u001b[0m\u001b[0m\n\u001b[1;32m     14\u001b[0m \u001b[0;31m# Build 3 layer DNN with 10, 20, 10 units respectively.\u001b[0m\u001b[0;34m\u001b[0m\u001b[0;34m\u001b[0m\u001b[0m\n\u001b[0;32m---> 15\u001b[0;31m classifier = tf.estimator.DNNClassifier(feature_columns=feature_columns,\n\u001b[0m\u001b[1;32m     16\u001b[0m                                           \u001b[0mhidden_units\u001b[0m\u001b[0;34m=\u001b[0m\u001b[0;34m[\u001b[0m\u001b[0;36m10\u001b[0m\u001b[0;34m,\u001b[0m \u001b[0;36m20\u001b[0m\u001b[0;34m,\u001b[0m \u001b[0;36m10\u001b[0m\u001b[0;34m]\u001b[0m\u001b[0;34m,\u001b[0m\u001b[0;34m\u001b[0m\u001b[0m\n\u001b[1;32m     17\u001b[0m                                           \u001b[0mn_classes\u001b[0m\u001b[0;34m=\u001b[0m\u001b[0;36m3\u001b[0m\u001b[0;34m,\u001b[0m\u001b[0;34m\u001b[0m\u001b[0m\n",
      "\u001b[0;31mAttributeError\u001b[0m: module 'tensorflow.python.estimator.estimator_lib' has no attribute 'DNNClassifier'"
     ]
    }
   ],
   "source": [
    "# Load datasets.\n",
    "training_set = tf.contrib.learn.datasets.base.load_csv_with_header(\n",
    "      filename=IRIS_TRAINING,\n",
    "      target_dtype=np.int,\\\n",
    "      features_dtype=np.float32)\n",
    "test_set = tf.contrib.learn.datasets.base.load_csv_with_header(\n",
    "      filename=IRIS_TEST,\n",
    "      target_dtype=np.int,\n",
    "      features_dtype=np.float32)\n",
    "\n",
    "# Specify that all features have real-value data\n",
    "feature_columns = [tf.feature_column.numeric_column(\"x\", shape=[4])]\n",
    "\n",
    "# Build 3 layer DNN with 10, 20, 10 units respectively.\n",
    "classifier = tf.estimator.DNNClassifier(feature_columns=feature_columns,\n",
    "                                          hidden_units=[10, 20, 10],\n",
    "                                          n_classes=3,\n",
    "                                          model_dir=\"/tmp/iris_model\")"
   ]
  },
  {
   "cell_type": "code",
   "execution_count": 9,
   "metadata": {},
   "outputs": [
    {
     "data": {
      "text/plain": [
       "<module 'tensorflow' from '/home/rocha/anaconda3/lib/python3.6/site-packages/tensorflow/__init__.py'>"
      ]
     },
     "execution_count": 9,
     "metadata": {},
     "output_type": "execute_result"
    }
   ],
   "source": [
    "tf"
   ]
  },
  {
   "cell_type": "code",
   "execution_count": 8,
   "metadata": {},
   "outputs": [
    {
     "data": {
      "text/plain": [
       "Dataset(data=array([[ 6.4000001 ,  2.79999995,  5.5999999 ,  2.20000005],\n",
       "       [ 5.        ,  2.29999995,  3.29999995,  1.        ],\n",
       "       [ 4.9000001 ,  2.5       ,  4.5       ,  1.70000005],\n",
       "       [ 4.9000001 ,  3.0999999 ,  1.5       ,  0.1       ],\n",
       "       [ 5.69999981,  3.79999995,  1.70000005,  0.30000001],\n",
       "       [ 4.4000001 ,  3.20000005,  1.29999995,  0.2       ],\n",
       "       [ 5.4000001 ,  3.4000001 ,  1.5       ,  0.40000001],\n",
       "       [ 6.9000001 ,  3.0999999 ,  5.0999999 ,  2.29999995],\n",
       "       [ 6.69999981,  3.0999999 ,  4.4000001 ,  1.39999998],\n",
       "       [ 5.0999999 ,  3.70000005,  1.5       ,  0.40000001],\n",
       "       [ 5.19999981,  2.70000005,  3.9000001 ,  1.39999998],\n",
       "       [ 6.9000001 ,  3.0999999 ,  4.9000001 ,  1.5       ],\n",
       "       [ 5.80000019,  4.        ,  1.20000005,  0.2       ],\n",
       "       [ 5.4000001 ,  3.9000001 ,  1.70000005,  0.40000001],\n",
       "       [ 7.69999981,  3.79999995,  6.69999981,  2.20000005],\n",
       "       [ 6.30000019,  3.29999995,  4.69999981,  1.60000002],\n",
       "       [ 6.80000019,  3.20000005,  5.9000001 ,  2.29999995],\n",
       "       [ 7.5999999 ,  3.        ,  6.5999999 ,  2.0999999 ],\n",
       "       [ 6.4000001 ,  3.20000005,  5.30000019,  2.29999995],\n",
       "       [ 5.69999981,  4.4000001 ,  1.5       ,  0.40000001],\n",
       "       [ 6.69999981,  3.29999995,  5.69999981,  2.0999999 ],\n",
       "       [ 6.4000001 ,  2.79999995,  5.5999999 ,  2.0999999 ],\n",
       "       [ 5.4000001 ,  3.9000001 ,  1.29999995,  0.40000001],\n",
       "       [ 6.0999999 ,  2.5999999 ,  5.5999999 ,  1.39999998],\n",
       "       [ 7.19999981,  3.        ,  5.80000019,  1.60000002],\n",
       "       [ 5.19999981,  3.5       ,  1.5       ,  0.2       ],\n",
       "       [ 5.80000019,  2.5999999 ,  4.        ,  1.20000005],\n",
       "       [ 5.9000001 ,  3.        ,  5.0999999 ,  1.79999995],\n",
       "       [ 5.4000001 ,  3.        ,  4.5       ,  1.5       ],\n",
       "       [ 6.69999981,  3.        ,  5.        ,  1.70000005],\n",
       "       [ 6.30000019,  2.29999995,  4.4000001 ,  1.29999995],\n",
       "       [ 5.0999999 ,  2.5       ,  3.        ,  1.10000002],\n",
       "       [ 6.4000001 ,  3.20000005,  4.5       ,  1.5       ],\n",
       "       [ 6.80000019,  3.        ,  5.5       ,  2.0999999 ],\n",
       "       [ 6.19999981,  2.79999995,  4.80000019,  1.79999995],\n",
       "       [ 6.9000001 ,  3.20000005,  5.69999981,  2.29999995],\n",
       "       [ 6.5       ,  3.20000005,  5.0999999 ,  2.        ],\n",
       "       [ 5.80000019,  2.79999995,  5.0999999 ,  2.4000001 ],\n",
       "       [ 5.0999999 ,  3.79999995,  1.5       ,  0.30000001],\n",
       "       [ 4.80000019,  3.        ,  1.39999998,  0.30000001],\n",
       "       [ 7.9000001 ,  3.79999995,  6.4000001 ,  2.        ],\n",
       "       [ 5.80000019,  2.70000005,  5.0999999 ,  1.89999998],\n",
       "       [ 6.69999981,  3.        ,  5.19999981,  2.29999995],\n",
       "       [ 5.0999999 ,  3.79999995,  1.89999998,  0.40000001],\n",
       "       [ 4.69999981,  3.20000005,  1.60000002,  0.2       ],\n",
       "       [ 6.        ,  2.20000005,  5.        ,  1.5       ],\n",
       "       [ 4.80000019,  3.4000001 ,  1.60000002,  0.2       ],\n",
       "       [ 7.69999981,  2.5999999 ,  6.9000001 ,  2.29999995],\n",
       "       [ 4.5999999 ,  3.5999999 ,  1.        ,  0.2       ],\n",
       "       [ 7.19999981,  3.20000005,  6.        ,  1.79999995],\n",
       "       [ 5.        ,  3.29999995,  1.39999998,  0.2       ],\n",
       "       [ 6.5999999 ,  3.        ,  4.4000001 ,  1.39999998],\n",
       "       [ 6.0999999 ,  2.79999995,  4.        ,  1.29999995],\n",
       "       [ 5.        ,  3.20000005,  1.20000005,  0.2       ],\n",
       "       [ 7.        ,  3.20000005,  4.69999981,  1.39999998],\n",
       "       [ 6.        ,  3.        ,  4.80000019,  1.79999995],\n",
       "       [ 7.4000001 ,  2.79999995,  6.0999999 ,  1.89999998],\n",
       "       [ 5.80000019,  2.70000005,  5.0999999 ,  1.89999998],\n",
       "       [ 6.19999981,  3.4000001 ,  5.4000001 ,  2.29999995],\n",
       "       [ 5.        ,  2.        ,  3.5       ,  1.        ],\n",
       "       [ 5.5999999 ,  2.5       ,  3.9000001 ,  1.10000002],\n",
       "       [ 6.69999981,  3.0999999 ,  5.5999999 ,  2.4000001 ],\n",
       "       [ 6.30000019,  2.5       ,  5.        ,  1.89999998],\n",
       "       [ 6.4000001 ,  3.0999999 ,  5.5       ,  1.79999995],\n",
       "       [ 6.19999981,  2.20000005,  4.5       ,  1.5       ],\n",
       "       [ 7.30000019,  2.9000001 ,  6.30000019,  1.79999995],\n",
       "       [ 4.4000001 ,  3.        ,  1.29999995,  0.2       ],\n",
       "       [ 7.19999981,  3.5999999 ,  6.0999999 ,  2.5       ],\n",
       "       [ 6.5       ,  3.        ,  5.5       ,  1.79999995],\n",
       "       [ 5.        ,  3.4000001 ,  1.5       ,  0.2       ],\n",
       "       [ 4.69999981,  3.20000005,  1.29999995,  0.2       ],\n",
       "       [ 6.5999999 ,  2.9000001 ,  4.5999999 ,  1.29999995],\n",
       "       [ 5.5       ,  3.5       ,  1.29999995,  0.2       ],\n",
       "       [ 7.69999981,  3.        ,  6.0999999 ,  2.29999995],\n",
       "       [ 6.0999999 ,  3.        ,  4.9000001 ,  1.79999995],\n",
       "       [ 4.9000001 ,  3.0999999 ,  1.5       ,  0.1       ],\n",
       "       [ 5.5       ,  2.4000001 ,  3.79999995,  1.10000002],\n",
       "       [ 5.69999981,  2.9000001 ,  4.19999981,  1.29999995],\n",
       "       [ 6.        ,  2.9000001 ,  4.5       ,  1.5       ],\n",
       "       [ 6.4000001 ,  2.70000005,  5.30000019,  1.89999998],\n",
       "       [ 5.4000001 ,  3.70000005,  1.5       ,  0.2       ],\n",
       "       [ 6.0999999 ,  2.9000001 ,  4.69999981,  1.39999998],\n",
       "       [ 6.5       ,  2.79999995,  4.5999999 ,  1.5       ],\n",
       "       [ 5.5999999 ,  2.70000005,  4.19999981,  1.29999995],\n",
       "       [ 6.30000019,  3.4000001 ,  5.5999999 ,  2.4000001 ],\n",
       "       [ 4.9000001 ,  3.0999999 ,  1.5       ,  0.1       ],\n",
       "       [ 6.80000019,  2.79999995,  4.80000019,  1.39999998],\n",
       "       [ 5.69999981,  2.79999995,  4.5       ,  1.29999995],\n",
       "       [ 6.        ,  2.70000005,  5.0999999 ,  1.60000002],\n",
       "       [ 5.        ,  3.5       ,  1.29999995,  0.30000001],\n",
       "       [ 6.5       ,  3.        ,  5.19999981,  2.        ],\n",
       "       [ 6.0999999 ,  2.79999995,  4.69999981,  1.20000005],\n",
       "       [ 5.0999999 ,  3.5       ,  1.39999998,  0.30000001],\n",
       "       [ 4.5999999 ,  3.0999999 ,  1.5       ,  0.2       ],\n",
       "       [ 6.5       ,  3.        ,  5.80000019,  2.20000005],\n",
       "       [ 4.5999999 ,  3.4000001 ,  1.39999998,  0.30000001],\n",
       "       [ 4.5999999 ,  3.20000005,  1.39999998,  0.2       ],\n",
       "       [ 7.69999981,  2.79999995,  6.69999981,  2.        ],\n",
       "       [ 5.9000001 ,  3.20000005,  4.80000019,  1.79999995],\n",
       "       [ 5.0999999 ,  3.79999995,  1.60000002,  0.2       ],\n",
       "       [ 4.9000001 ,  3.        ,  1.39999998,  0.2       ],\n",
       "       [ 4.9000001 ,  2.4000001 ,  3.29999995,  1.        ],\n",
       "       [ 4.5       ,  2.29999995,  1.29999995,  0.30000001],\n",
       "       [ 5.80000019,  2.70000005,  4.0999999 ,  1.        ],\n",
       "       [ 5.        ,  3.4000001 ,  1.60000002,  0.40000001],\n",
       "       [ 5.19999981,  3.4000001 ,  1.39999998,  0.2       ],\n",
       "       [ 5.30000019,  3.70000005,  1.5       ,  0.2       ],\n",
       "       [ 5.        ,  3.5999999 ,  1.39999998,  0.2       ],\n",
       "       [ 5.5999999 ,  2.9000001 ,  3.5999999 ,  1.29999995],\n",
       "       [ 4.80000019,  3.0999999 ,  1.60000002,  0.2       ],\n",
       "       [ 6.30000019,  2.70000005,  4.9000001 ,  1.79999995],\n",
       "       [ 5.69999981,  2.79999995,  4.0999999 ,  1.29999995],\n",
       "       [ 5.        ,  3.        ,  1.60000002,  0.2       ],\n",
       "       [ 6.30000019,  3.29999995,  6.        ,  2.5       ],\n",
       "       [ 5.        ,  3.5       ,  1.60000002,  0.60000002],\n",
       "       [ 5.5       ,  2.5999999 ,  4.4000001 ,  1.20000005],\n",
       "       [ 5.69999981,  3.        ,  4.19999981,  1.20000005],\n",
       "       [ 4.4000001 ,  2.9000001 ,  1.39999998,  0.2       ],\n",
       "       [ 4.80000019,  3.        ,  1.39999998,  0.1       ],\n",
       "       [ 5.5       ,  2.4000001 ,  3.70000005,  1.        ]], dtype=float32), target=array([2, 1, 2, 0, 0, 0, 0, 2, 1, 0, 1, 1, 0, 0, 2, 1, 2, 2, 2, 0, 2, 2, 0,\n",
       "       2, 2, 0, 1, 2, 1, 1, 1, 1, 1, 2, 2, 2, 2, 2, 0, 0, 2, 2, 2, 0, 0, 2,\n",
       "       0, 2, 0, 2, 0, 1, 1, 0, 1, 2, 2, 2, 2, 1, 1, 2, 2, 2, 1, 2, 0, 2, 2,\n",
       "       0, 0, 1, 0, 2, 2, 0, 1, 1, 1, 2, 0, 1, 1, 1, 2, 0, 1, 1, 1, 0, 2, 1,\n",
       "       0, 0, 2, 0, 0, 2, 1, 0, 0, 1, 0, 1, 0, 0, 0, 0, 1, 0, 2, 1, 0, 2, 0,\n",
       "       1, 1, 0, 0, 1]))"
      ]
     },
     "execution_count": 8,
     "metadata": {},
     "output_type": "execute_result"
    }
   ],
   "source": [
    "training_set"
   ]
  }
 ],
 "metadata": {
  "kernelspec": {
   "display_name": "Python 3",
   "language": "python",
   "name": "python3"
  },
  "language_info": {
   "codemirror_mode": {
    "name": "ipython",
    "version": 3
   },
   "file_extension": ".py",
   "mimetype": "text/x-python",
   "name": "python",
   "nbconvert_exporter": "python",
   "pygments_lexer": "ipython3",
   "version": "3.6.1"
  }
 },
 "nbformat": 4,
 "nbformat_minor": 2
}
